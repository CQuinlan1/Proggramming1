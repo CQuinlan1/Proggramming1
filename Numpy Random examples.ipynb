{
 "cells": [
  {
   "cell_type": "markdown",
   "metadata": {},
   "source": [
    "# Numpy Random Examples at work"
   ]
  },
  {
   "cell_type": "markdown",
   "metadata": {},
   "source": [
    "## Numpy\n",
    "Numpy is a module for Python programming. Numpy allows you collect numerical data and put them in arrays and do manipulations or calculations on this data. "
   ]
  },
  {
   "cell_type": "markdown",
   "metadata": {},
   "source": [
    "### Simple Random Data in action\n"
   ]
  },
  {
   "cell_type": "markdown",
   "metadata": {},
   "source": [
    "*Simple Random Data* offers 10 different functions to choose from. We are offered a selection of possibilities for creating random values."
   ]
  },
  {
   "cell_type": "code",
   "execution_count": null,
   "metadata": {},
   "outputs": [],
   "source": [
    "import numpy as np  \n",
    "# Importing the numpy package in order to find some values in action"
   ]
  },
  {
   "cell_type": "markdown",
   "metadata": {},
   "source": [
    "We are going to look at various functions in the Simple Random Data range .\n"
   ]
  },
  {
   "cell_type": "markdown",
   "metadata": {},
   "source": [
    "We will start will the rand function. We will ask the function to supply us with 5 random values."
   ]
  },
  {
   "cell_type": "code",
   "execution_count": null,
   "metadata": {},
   "outputs": [],
   "source": [
    "np.random.rand(5)"
   ]
  },
  {
   "cell_type": "markdown",
   "metadata": {},
   "source": [
    "These values are from a uniform distribution between 0 and 1."
   ]
  },
  {
   "cell_type": "markdown",
   "metadata": {},
   "source": [
    "We can now compare this function with the randn function.Both are quite similar, however, as rand work with uniform distribution, randn works with normal Gaussian distribution."
   ]
  },
  {
   "cell_type": "code",
   "execution_count": null,
   "metadata": {},
   "outputs": [],
   "source": [
    "np.random.randn(5)"
   ]
  },
  {
   "cell_type": "markdown",
   "metadata": {},
   "source": [
    "As with other functions sampled from the normal distribution , the centre is focused around the mean and values close to the mean have a higher chance of appearing compared to those values found above in rand."
   ]
  },
  {
   "cell_type": "markdown",
   "metadata": {},
   "source": [
    "We can also create arays of random floats such as below : where 3 is the rows and 5 is the columns required.\n"
   ]
  },
  {
   "cell_type": "code",
   "execution_count": null,
   "metadata": {},
   "outputs": [],
   "source": [
    "np.random.randn(3,5)"
   ]
  },
  {
   "cell_type": "markdown",
   "metadata": {},
   "source": [
    "randint is another function under the Simple Random branch.It offers the random selection of values where the lower paramenter is included and higher is excluded.The output could be a single integer or an array of integers\n",
    "\n"
   ]
  },
  {
   "cell_type": "code",
   "execution_count": null,
   "metadata": {},
   "outputs": [],
   "source": [
    "np.random.randint(5, size=10)\n",
    "# The values to choose from are from 0 to 4, and 10 values will be created"
   ]
  },
  {
   "cell_type": "markdown",
   "metadata": {},
   "source": [
    "I could also require an array of random values. Below is an example using randint"
   ]
  },
  {
   "cell_type": "code",
   "execution_count": null,
   "metadata": {},
   "outputs": [],
   "source": [
    ">>> np.random.randint(5, size=(3, 5))\n",
    "# where values are chosen from 0 to 4, and created in an array of 3 roes and 5 columns"
   ]
  },
  {
   "cell_type": "code",
   "execution_count": null,
   "metadata": {},
   "outputs": [],
   "source": []
  },
  {
   "cell_type": "markdown",
   "metadata": {},
   "source": [
    "### Permutations"
   ]
  },
  {
   "cell_type": "markdown",
   "metadata": {},
   "source": [
    "The  Permutations function offers 2 methods of creating random values: \n",
    "* Shuffle and \n",
    "* Permutation "
   ]
  },
  {
   "cell_type": "markdown",
   "metadata": {},
   "source": [
    "Shuffle:Here the sequence is shuffled in its original array"
   ]
  },
  {
   "cell_type": "code",
   "execution_count": null,
   "metadata": {},
   "outputs": [],
   "source": [
    "s = np.array([1,2,3,4,5,6])\n",
    "# I create an array with values\n",
    "np.random.shuffle(s) \n",
    "# The function shuffle runs on my set of numbers in set s\n",
    "s\n",
    "#  I call on s to be shown.\n",
    "  "
   ]
  },
  {
   "cell_type": "markdown",
   "metadata": {},
   "source": [
    "#### Permutations"
   ]
  },
  {
   "cell_type": "markdown",
   "metadata": {},
   "source": [
    "Lets run the same set of numbers now with the Permutation function"
   ]
  },
  {
   "cell_type": "code",
   "execution_count": 26,
   "metadata": {},
   "outputs": [
    {
     "data": {
      "text/plain": [
       "array([3, 5, 4, 6, 2, 1])"
      ]
     },
     "execution_count": 26,
     "metadata": {},
     "output_type": "execute_result"
    }
   ],
   "source": [
    "s = np.array([1,2,3,4,5,6])\n",
    "np.random.permutation(s)\n",
    "#  So here a new array is created and printed below, however set s does not change\n"
   ]
  },
  {
   "cell_type": "code",
   "execution_count": 27,
   "metadata": {},
   "outputs": [
    {
     "data": {
      "text/plain": [
       "array([1, 2, 3, 4, 5, 6])"
      ]
     },
     "execution_count": 27,
     "metadata": {},
     "output_type": "execute_result"
    }
   ],
   "source": [
    "s \n",
    "# Here I elicit s and we see there is no change in the value order"
   ]
  },
  {
   "cell_type": "markdown",
   "metadata": {},
   "source": [
    "### Distributions in action"
   ]
  },
  {
   "cell_type": "markdown",
   "metadata": {},
   "source": [
    "Under the numpy random range of function we find the distribution branch of functions. It offers a wider range of functions from a variety of distributions to find random values."
   ]
  },
  {
   "cell_type": "markdown",
   "metadata": {},
   "source": [
    "Examples of some are offered below:"
   ]
  },
  {
   "cell_type": "markdown",
   "metadata": {},
   "source": [
    "#### Normal Distribution:"
   ]
  },
  {
   "cell_type": "markdown",
   "metadata": {},
   "source": [
    "The Normal(Gaussian) Distribution is often referred to as bell shaped, with the mean as the centre and the spread scattered evenly on either side."
   ]
  },
  {
   "cell_type": "markdown",
   "metadata": {},
   "source": [
    "We can draw a single value "
   ]
  },
  {
   "cell_type": "code",
   "execution_count": 28,
   "metadata": {},
   "outputs": [
    {
     "data": {
      "text/plain": [
       "0.5641840861309653"
      ]
     },
     "execution_count": 28,
     "metadata": {},
     "output_type": "execute_result"
    }
   ],
   "source": [
    "import numpy as np\n",
    "# Here I needed to import np again?\n",
    "np.random.normal(1)\n"
   ]
  },
  {
   "cell_type": "markdown",
   "metadata": {},
   "source": [
    "Or we can request an array again of values:"
   ]
  },
  {
   "cell_type": "code",
   "execution_count": 29,
   "metadata": {},
   "outputs": [
    {
     "data": {
      "text/plain": [
       "array([52.68134276, 50.78507492, 56.79394569, 52.57672623, 61.92062312,\n",
       "       52.64595134])"
      ]
     },
     "execution_count": 29,
     "metadata": {},
     "output_type": "execute_result"
    }
   ],
   "source": [
    "np.random.normal(50,5,6)\n",
    "# Note that 50 is the mean (loc) , 5 the standard deviation(scale), and 6 the si"
   ]
  },
  {
   "cell_type": "markdown",
   "metadata": {},
   "source": [
    "As we can see above the random values are distributed around the mean,taking standard deviation as 5 and showing the 6 values requested"
   ]
  },
  {
   "cell_type": "code",
   "execution_count": 20,
   "metadata": {},
   "outputs": [
    {
     "data": {
      "image/png": "[encoded data removed]",
      "text/plain": [
       "<Figure size 432x288 with 1 Axes>"
      ]
     },
     "metadata": {
      "needs_background": "light"
     },
     "output_type": "display_data"
    }
   ],
   "source": [
    "\n",
    "import matplotlib.pyplot as plt \n",
    "# here i import matplotlib for plotting\n",
    "\n",
    "values= np.random.normal(50,5,1000) \n",
    "#i am stating the prarameters,50 the mean,5 the standard deviation,and 1000 the values requested \n",
    "plt.hist(values,1000) \n",
    "# plotting the values found and broken into 1000 bins\n",
    "plt.show()"
   ]
  },
  {
   "cell_type": "markdown",
   "metadata": {},
   "source": [
    "Above we can see the normal distribution around the mean of 50 wih standard deviation of 5, output of 1000 values."
   ]
  },
  {
   "cell_type": "markdown",
   "metadata": {},
   "source": [
    "#### Multivariate Normal"
   ]
  },
  {
   "cell_type": "markdown",
   "metadata": {},
   "source": [
    "The Multivariate Normal distribution offers a normal distribution based on the mean and covariance.The random values again will be found close to the mean.However the mean now is now  a mean in an n dimensional distribution, and the covariance is setin  a matrix of n x n distribution. (Covariance could be diagonal or spherical)."
   ]
  },
  {
   "cell_type": "markdown",
   "metadata": {},
   "source": [
    "Before we run the fuction we must specify the mean and the covariance matrix"
   ]
  },
  {
   "cell_type": "code",
   "execution_count": 30,
   "metadata": {},
   "outputs": [],
   "source": [
    " mean = (50, 50)\n",
    " cov = [[1, 0], [0, 1]]\n",
    "# specifiying the mean and covariance parameter\n",
    "\n",
    "x = np.random.multivariate_normal(mean, cov, (3,2))\n",
    "# elicit the random values for that mean and covariance and produce it in an array of  3 roows of 2\n"
   ]
  },
  {
   "cell_type": "code",
   "execution_count": 31,
   "metadata": {},
   "outputs": [
    {
     "data": {
      "text/plain": [
       "array([[[49.10385616, 49.80218988],\n",
       "        [49.90452417, 48.31955408]],\n",
       "\n",
       "       [[50.6767082 , 50.06072782],\n",
       "        [49.97695881, 49.44668157]],\n",
       "\n",
       "       [[48.89387676, 49.78286511],\n",
       "        [49.12457762, 50.01078143]]])"
      ]
     },
     "execution_count": 31,
     "metadata": {},
     "output_type": "execute_result"
    }
   ],
   "source": [
    "x"
   ]
  },
  {
   "cell_type": "markdown",
   "metadata": {},
   "source": [
    "So here we can see the output is close to the mean(50,50) with 3 rows of 2 columns."
   ]
  },
  {
   "cell_type": "code",
   "execution_count": 32,
   "metadata": {},
   "outputs": [
    {
     "data": {
      "image/png": "[encoded data removed]",
      "text/plain": [
       "<Figure size 432x288 with 1 Axes>"
      ]
     },
     "metadata": {
      "needs_background": "light"
     },
     "output_type": "display_data"
    }
   ],
   "source": [
    " import matplotlib.pyplot as plt\n",
    "    # importing matplotlib to plot \n",
    " x, y = np.random.multivariate_normal(mean, cov, 100)\n",
    "# naming the points of the mean with covariance as x and y\n",
    " plt.plot(x, y, 'x') # plotting \n",
    " plt.axis('equal')# equal measurement of axis\n",
    " plt.show()"
   ]
  },
  {
   "cell_type": "markdown",
   "metadata": {},
   "source": [
    "In the graph above you can see the 100 random values where our mean is 50 and covariance 5. As the function is a normal distribution we can see that we have a higher amount of values about the mean."
   ]
  },
  {
   "cell_type": "markdown",
   "metadata": {},
   "source": [
    "Uses:"
   ]
  },
  {
   "cell_type": "markdown",
   "metadata": {},
   "source": [
    "We  can generate random values from   a multivariate normal function which  works with the mean and *covariance* of a one to higher dimensional  normal distribution.The mean is taken as the centre and the covariance as the spread.The covariance itself is how 2 variables react with each other, where the change in 1 variable equals a change in another. \n"
   ]
  },
  {
   "cell_type": "markdown",
   "metadata": {},
   "source": [
    "Uses of this would be in portfolio management where risk needs to be minimized within a portfolio  then to eliminate or minimize risk negative covariance may be sought between 2  or more products."
   ]
  },
  {
   "cell_type": "markdown",
   "metadata": {},
   "source": [
    "####  Chisquare"
   ]
  },
  {
   "cell_type": "markdown",
   "metadata": {},
   "source": [
    "Sample values can be created with the numpy function chisquare  drawing samples from a chi-square distribution.\n",
    "\n",
    "It  creates independent random variables, each with standard normal distributions (mean 0, variance 1), which  are  *squared and summed* ."
   ]
  },
  {
   "cell_type": "markdown",
   "metadata": {},
   "source": [
    "Chi-Square  used to evaluate  Independence of  two categorical variables simultaneously.  The Test of Independence assesses whether an association or correlation exists between the two often categorical (non numeric) variables By  Calculating their Chi-Square statistic and comparing it against  values from the Chi-Square distribution allows us assess whether the observed values are  different from the expected.\n",
    "\n"
   ]
  },
  {
   "cell_type": "markdown",
   "metadata": {},
   "source": [
    "Uses: We could use use a dataset we create to view people's preferences and view it against what would be expected from the random pattern produced by the Chi square function .We could  check  if there was a male or female preference in beverages in a restaurant for example, as a correlation would appear if there was between one gender and a specific beverage."
   ]
  },
  {
   "cell_type": "code",
   "execution_count": null,
   "metadata": {},
   "outputs": [],
   "source": [
    "x = [1, 2, 3, 4, 5]\n"
   ]
  },
  {
   "cell_type": "markdown",
   "metadata": {},
   "source": [
    "#### Binomial "
   ]
  },
  {
   "cell_type": "code",
   "execution_count": null,
   "metadata": {},
   "outputs": [],
   "source": []
  },
  {
   "cell_type": "markdown",
   "metadata": {},
   "source": [
    "As mentioned in the README  the Binomial function is \n",
    "shown as Numpy.random.binomial. This draws samples from a Binomial distribution, with specified parameters, n trials and p probability of success where n an integer >= 0 and p, the probability, is in the interval [0,1]. (n may be inputed as a float, but it is truncated to an integer in use)\n"
   ]
  },
  {
   "cell_type": "markdown",
   "metadata": {},
   "source": [
    "Uses: If we think of the the Bernoulli experiments which is a case of the binomial distribution, it invloves an experiment being repeated numerous times but with only 2 outcomes, success or failure. It can be applied to estimate the number of successes or failures in an event where only 2 outcomes exist and each experiment is independent of each other.\n"
   ]
  },
  {
   "cell_type": "markdown",
   "metadata": {},
   "source": [
    "Examples would be coin flips with a fair coin , or the looking at the probability of the  birth of a boy or girl. In each, the trials are independent of each other."
   ]
  },
  {
   "cell_type": "code",
   "execution_count": 17,
   "metadata": {},
   "outputs": [],
   "source": [
    "import numpy as np\n",
    "# importing numpy\n",
    "import seaborn as sb\n",
    "# importing seaborn to do nicer plots\n",
    "bin = np.random.binomial(2, .5, 100)\n",
    "# naming the array of random data produced as bin"
   ]
  },
  {
   "cell_type": "code",
   "execution_count": 18,
   "metadata": {},
   "outputs": [
    {
     "data": {
      "text/plain": [
       "array([0, 1, 2, 2, 2, 1, 0, 1, 1, 2, 1, 0, 0, 1, 2, 2, 1, 0, 0, 1, 2, 0,\n",
       "       1, 1, 0, 0, 1, 1, 0, 1, 0, 1, 1, 1, 2, 0, 0, 2, 1, 0, 0, 0, 1, 1,\n",
       "       1, 0, 0, 1, 2, 1, 0, 0, 0, 0, 2, 0, 2, 0, 2, 0, 0, 1, 0, 2, 2, 2,\n",
       "       0, 2, 1, 0, 0, 1, 1, 0, 2, 1, 1, 1, 1, 1, 1, 1, 0, 1, 2, 1, 2, 0,\n",
       "       0, 0, 1, 1, 1, 2, 1, 2, 1, 2, 1, 2])"
      ]
     },
     "execution_count": 18,
     "metadata": {},
     "output_type": "execute_result"
    }
   ],
   "source": [
    "bin"
   ]
  },
  {
   "cell_type": "markdown",
   "metadata": {},
   "source": [
    "Our input requires a range of 100 sample values with a .5 probability of it being any value from 0 to 2 "
   ]
  },
  {
   "cell_type": "markdown",
   "metadata": {},
   "source": [
    "Our output above will be different each time we run it without a seed"
   ]
  },
  {
   "cell_type": "code",
   "execution_count": 19,
   "metadata": {},
   "outputs": [
    {
     "data": {
      "text/plain": [
       "[Text(0, 0.5, 'Frequency'), Text(0.5, 0, 'Binomial')]"
      ]
     },
     "execution_count": 19,
     "metadata": {},
     "output_type": "execute_result"
    },
    {
     "data": {
      "image/png": "[encoded data removed]",
      "text/plain": [
       "<Figure size 432x288 with 1 Axes>"
      ]
     },
     "metadata": {
      "needs_background": "light"
     },
     "output_type": "display_data"
    }
   ],
   "source": [
    "\n",
    "ax = sb.distplot(bin,kde=True,color='blue',hist_kws={\"linewidth\": 25,'alpha':1})\n",
    "# using the data above to create a histoplot\n",
    "ax.set(xlabel='Binomial', ylabel='Frequency')\n",
    "# identifying the  axes\n"
   ]
  },
  {
   "cell_type": "markdown",
   "metadata": {},
   "source": [
    " #### Standard_normal"
   ]
  },
  {
   "cell_type": "markdown",
   "metadata": {},
   "source": [
    "Standard Normal offers the possibility of randoms from a Normal distribution where the mean is o and the standard deviation is 1."
   ]
  },
  {
   "cell_type": "code",
   "execution_count": 16,
   "metadata": {},
   "outputs": [
    {
     "data": {
      "text/plain": [
       "array([-0.02160062, -0.6538942 ,  1.23848616,  0.37732997, -0.51826017,\n",
       "        0.75471757, -0.0323603 , -1.06850085])"
      ]
     },
     "execution_count": 16,
     "metadata": {},
     "output_type": "execute_result"
    }
   ],
   "source": [
    "import numpy as np\n",
    "sd = np.random.standard_normal(8)\n",
    "# Eliciting 8 random values produced from the random standard normal function \n",
    "sd\n",
    "# eliciting the array i called sd"
   ]
  },
  {
   "cell_type": "markdown",
   "metadata": {},
   "source": [
    "Uses:When we want to see if our values fall within the 1 standard deviation when we place our mean at 0. Our data should fall within these parameters and fit within the range of our array of random gnerated values, and follow a similar patteren when plotted."
   ]
  },
  {
   "cell_type": "markdown",
   "metadata": {},
   "source": [
    "### Use of Seeds in generating Pseudo random numbers"
   ]
  },
  {
   "cell_type": "markdown",
   "metadata": {},
   "source": [
    "In Numpy we have 4 functions under Random Generator, where seed is one of those functions.\n",
    "To understand the effect of the function seed firstly its worth considering the function random without calling the function seed previously and realising how the function random will continuesly return  values  that are completely random,  different float values are output each time.\n",
    "\n"
   ]
  },
  {
   "cell_type": "markdown",
   "metadata": {},
   "source": [
    "Random function without a seed \n"
   ]
  },
  {
   "cell_type": "code",
   "execution_count": 33,
   "metadata": {},
   "outputs": [
    {
     "data": {
      "text/plain": [
       "0.9426874804292175"
      ]
     },
     "execution_count": 33,
     "metadata": {},
     "output_type": "execute_result"
    }
   ],
   "source": [
    "np.random.rand()\n",
    "# Eliciting a random value between ( 0 and 1)"
   ]
  },
  {
   "cell_type": "markdown",
   "metadata": {},
   "source": [
    "Each time our output is completely random"
   ]
  },
  {
   "cell_type": "markdown",
   "metadata": {},
   "source": [
    "However, when we seed the generator first our number (s) can be recreated each time we need them."
   ]
  },
  {
   "cell_type": "code",
   "execution_count": 34,
   "metadata": {},
   "outputs": [
    {
     "data": {
      "text/plain": [
       "0.771320643266746"
      ]
     },
     "execution_count": 34,
     "metadata": {},
     "output_type": "execute_result"
    }
   ],
   "source": [
    "np.random.seed(10)\n",
    "# placing a seed before the numpy rand function\n",
    "np.random.rand()\n",
    "# requesting a random value\n"
   ]
  },
  {
   "cell_type": "code",
   "execution_count": 35,
   "metadata": {},
   "outputs": [
    {
     "data": {
      "text/plain": [
       "0.771320643266746"
      ]
     },
     "execution_count": 35,
     "metadata": {},
     "output_type": "execute_result"
    }
   ],
   "source": [
    "np.random.seed(10)\n",
    "# showing how the same seed can assist in giving  us the same random value \n",
    "np.random.rand()"
   ]
  },
  {
   "cell_type": "markdown",
   "metadata": {},
   "source": [
    "The introduction of a unique seed before eliciting a random function allows us to elicit the same value or sequence of values each time "
   ]
  },
  {
   "cell_type": "markdown",
   "metadata": {},
   "source": [
    "As mentioned in the README file,cases of the use of the seed function can be found in cryptography where the seed is kept secret. In computer security pseudo random numbers  are important in the encryption algorithms where codes or sequences for passwords etc cannot be guessed and need to be repeated."
   ]
  },
  {
   "cell_type": "code",
   "execution_count": null,
   "metadata": {},
   "outputs": [],
   "source": []
  },
  {
   "cell_type": "code",
   "execution_count": null,
   "metadata": {},
   "outputs": [],
   "source": []
  }
 ],
 "metadata": {
  "kernelspec": {
   "display_name": "Python 3",
   "language": "python",
   "name": "python3"
  },
  "language_info": {
   "codemirror_mode": {
    "name": "ipython",
    "version": 3
   },
   "file_extension": ".py",
   "mimetype": "text/x-python",
   "name": "python",
   "nbconvert_exporter": "python",
   "pygments_lexer": "ipython3",
   "version": "3.7.3"
  }
 },
 "nbformat": 4,
 "nbformat_minor": 4
}
